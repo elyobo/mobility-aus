{
 "cells": [
  {
   "cell_type": "code",
   "execution_count": null,
   "id": "22ee4199-322b-43d6-b6f5-31d8aeaabbbf",
   "metadata": {},
   "outputs": [],
   "source": [
    "import recipes"
   ]
  },
  {
   "cell_type": "code",
   "execution_count": null,
   "id": "e1389faf-4187-4292-a1e8-93131b9e0508",
   "metadata": {},
   "outputs": [],
   "source": [
    "canvas = recipes.melsummary_plot()"
   ]
  },
  {
   "cell_type": "code",
   "execution_count": null,
   "id": "df713576-a97c-46b2-b5fd-efc85822d2ce",
   "metadata": {},
   "outputs": [],
   "source": [
    "canvas"
   ]
  },
  {
   "cell_type": "code",
   "execution_count": null,
   "id": "a52000a8-ef49-4cda-99df-4bd927c97406",
   "metadata": {},
   "outputs": [],
   "source": []
  }
 ],
 "metadata": {
  "kernelspec": {
   "display_name": "Python 3",
   "language": "python",
   "name": "python3"
  },
  "language_info": {
   "codemirror_mode": {
    "name": "ipython",
    "version": 3
   },
   "file_extension": ".py",
   "mimetype": "text/x-python",
   "name": "python",
   "nbconvert_exporter": "python",
   "pygments_lexer": "ipython3",
   "version": "3.9.5"
  }
 },
 "nbformat": 4,
 "nbformat_minor": 5
}
