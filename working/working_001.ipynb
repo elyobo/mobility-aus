{
 "cells": [
  {
   "cell_type": "code",
   "execution_count": 1,
   "id": "42248f37-2571-40b8-9604-2989fccc1cf0",
   "metadata": {},
   "outputs": [],
   "source": [
    "import load"
   ]
  },
  {
   "cell_type": "code",
   "execution_count": 6,
   "id": "97dc6fe1-fe1e-4b49-90c5-28ea689e82de",
   "metadata": {},
   "outputs": [],
   "source": [
    "fbdata = load.FBDataset('syd')"
   ]
  },
  {
   "cell_type": "code",
   "execution_count": 7,
   "id": "f8ec0033-6cea-4710-b467-06303ee4724e",
   "metadata": {},
   "outputs": [
    {
     "name": "stdout",
     "output_type": "stream",
     "text": [
      "Loading many files from 'syd'\n",
      "[##################################################]\n",
      "Aggregating tiles...\n",
      "Tiles aggregated.\n",
      "\n",
      "Done.\n"
     ]
    }
   ],
   "source": [
    "allout = fbdata[...]"
   ]
  },
  {
   "cell_type": "code",
   "execution_count": 5,
   "id": "bd9b0820-7d45-4d7e-8602-ae8abe1047ed",
   "metadata": {},
   "outputs": [
    {
     "data": {
      "text/html": [
       "<div>\n",
       "<style scoped>\n",
       "    .dataframe tbody tr th:only-of-type {\n",
       "        vertical-align: middle;\n",
       "    }\n",
       "\n",
       "    .dataframe tbody tr th {\n",
       "        vertical-align: top;\n",
       "    }\n",
       "\n",
       "    .dataframe thead th {\n",
       "        text-align: right;\n",
       "    }\n",
       "</style>\n",
       "<table border=\"1\" class=\"dataframe\">\n",
       "  <thead>\n",
       "    <tr style=\"text-align: right;\">\n",
       "      <th></th>\n",
       "      <th></th>\n",
       "      <th></th>\n",
       "      <th>km</th>\n",
       "      <th>n</th>\n",
       "    </tr>\n",
       "    <tr>\n",
       "      <th>datetime</th>\n",
       "      <th>quadkey</th>\n",
       "      <th>end_key</th>\n",
       "      <th></th>\n",
       "      <th></th>\n",
       "    </tr>\n",
       "  </thead>\n",
       "  <tbody>\n",
       "    <tr>\n",
       "      <th rowspan=\"5\" valign=\"top\">2020-12-28 00:00:00+00:00</th>\n",
       "      <th>3112210222021</th>\n",
       "      <th>3112210222021</th>\n",
       "      <td>0.000000</td>\n",
       "      <td>16</td>\n",
       "    </tr>\n",
       "    <tr>\n",
       "      <th>3112210222032</th>\n",
       "      <th>3112210222032</th>\n",
       "      <td>0.000000</td>\n",
       "      <td>47</td>\n",
       "    </tr>\n",
       "    <tr>\n",
       "      <th>3112210222201</th>\n",
       "      <th>3112210222201</th>\n",
       "      <td>0.000000</td>\n",
       "      <td>18</td>\n",
       "    </tr>\n",
       "    <tr>\n",
       "      <th>3112210222210</th>\n",
       "      <th>3112210222210</th>\n",
       "      <td>0.000000</td>\n",
       "      <td>350</td>\n",
       "    </tr>\n",
       "    <tr>\n",
       "      <th>3112210222211</th>\n",
       "      <th>3112210222211</th>\n",
       "      <td>0.000000</td>\n",
       "      <td>164</td>\n",
       "    </tr>\n",
       "    <tr>\n",
       "      <th>...</th>\n",
       "      <th>...</th>\n",
       "      <th>...</th>\n",
       "      <td>...</td>\n",
       "      <td>...</td>\n",
       "    </tr>\n",
       "    <tr>\n",
       "      <th rowspan=\"5\" valign=\"top\">2021-06-22 16:00:00+00:00</th>\n",
       "      <th rowspan=\"5\" valign=\"top\">3112321001330</th>\n",
       "      <th>3112321001330</th>\n",
       "      <td>3.906906</td>\n",
       "      <td>8</td>\n",
       "    </tr>\n",
       "    <tr>\n",
       "      <th>3112321001330</th>\n",
       "      <td>21.078068</td>\n",
       "      <td>6</td>\n",
       "    </tr>\n",
       "    <tr>\n",
       "      <th>3112321001330</th>\n",
       "      <td>12.343332</td>\n",
       "      <td>7</td>\n",
       "    </tr>\n",
       "    <tr>\n",
       "      <th>3112321001330</th>\n",
       "      <td>8.760227</td>\n",
       "      <td>2</td>\n",
       "    </tr>\n",
       "    <tr>\n",
       "      <th>3112321001330</th>\n",
       "      <td>12.388832</td>\n",
       "      <td>6</td>\n",
       "    </tr>\n",
       "  </tbody>\n",
       "</table>\n",
       "<p>1848068 rows × 2 columns</p>\n",
       "</div>"
      ],
      "text/plain": [
       "                                                              km    n\n",
       "datetime                  quadkey       end_key                      \n",
       "2020-12-28 00:00:00+00:00 3112210222021 3112210222021   0.000000   16\n",
       "                          3112210222032 3112210222032   0.000000   47\n",
       "                          3112210222201 3112210222201   0.000000   18\n",
       "                          3112210222210 3112210222210   0.000000  350\n",
       "                          3112210222211 3112210222211   0.000000  164\n",
       "...                                                          ...  ...\n",
       "2021-06-22 16:00:00+00:00 3112321001330 3112321001330   3.906906    8\n",
       "                                        3112321001330  21.078068    6\n",
       "                                        3112321001330  12.343332    7\n",
       "                                        3112321001330   8.760227    2\n",
       "                                        3112321001330  12.388832    6\n",
       "\n",
       "[1848068 rows x 2 columns]"
      ]
     },
     "execution_count": 5,
     "metadata": {},
     "output_type": "execute_result"
    }
   ],
   "source": [
    "allout"
   ]
  },
  {
   "cell_type": "code",
   "execution_count": null,
   "id": "d3b9478f-aa82-4318-9db1-6385ec72b7b8",
   "metadata": {},
   "outputs": [],
   "source": []
  }
 ],
 "metadata": {
  "kernelspec": {
   "display_name": "Python 3",
   "language": "python",
   "name": "python3"
  },
  "language_info": {
   "codemirror_mode": {
    "name": "ipython",
    "version": 3
   },
   "file_extension": ".py",
   "mimetype": "text/x-python",
   "name": "python",
   "nbconvert_exporter": "python",
   "pygments_lexer": "ipython3",
   "version": "3.9.5"
  }
 },
 "nbformat": 4,
 "nbformat_minor": 5
}
