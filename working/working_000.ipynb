{
 "cells": [
  {
   "cell_type": "code",
   "execution_count": 1,
   "id": "41be9c60-42ff-42a7-8732-42e798ef767b",
   "metadata": {},
   "outputs": [],
   "source": [
    "import load\n",
    "import aggregate\n",
    "\n",
    "import aliases\n",
    "from everest import window"
   ]
  },
  {
   "cell_type": "code",
   "execution_count": 2,
   "id": "5d67dac1-57ab-437e-9b33-737bb546ff7c",
   "metadata": {},
   "outputs": [],
   "source": [
    "mydata = load.FBDataset('vic')\n",
    "spatialaggregator = aggregate.SpatialAggregator('lga')"
   ]
  },
  {
   "cell_type": "code",
   "execution_count": 3,
   "id": "968a4338-e906-42c7-8161-cbe9d72223c6",
   "metadata": {},
   "outputs": [
    {
     "name": "stdout",
     "output_type": "stream",
     "text": [
      "Loading many files from 'vic'\n",
      "\n",
      "Aggregating tiles...\n",
      "Tiles aggregated.\n",
      "\n",
      "Done.\n"
     ]
    }
   ],
   "source": [
    "sample = mydata[-2:]"
   ]
  },
  {
   "cell_type": "code",
   "execution_count": 4,
   "id": "ffafcca2-ab36-44d0-8b1a-18cc16b6999a",
   "metadata": {},
   "outputs": [
    {
     "name": "stdout",
     "output_type": "stream",
     "text": [
      "Aggregating to lga...\n",
      "Adding possible journeys...\n",
      "Getting quadkey weights...\n",
      "Quadkey weights retrieved.\n",
      "Added possible journeys.\n",
      "Splitting frame by possible journey...\n",
      "Frame split.\n",
      "Aggregated.\n",
      "Combining dates...\n",
      "Dates combined.\n"
     ]
    }
   ],
   "source": [
    "frm = aggregate.aggregate(sample)"
   ]
  },
  {
   "cell_type": "code",
   "execution_count": 7,
   "id": "e09fc8fd-2c59-49cc-83be-50e605eb230c",
   "metadata": {},
   "outputs": [
    {
     "data": {
      "text/html": [
       "<div>\n",
       "<style scoped>\n",
       "    .dataframe tbody tr th:only-of-type {\n",
       "        vertical-align: middle;\n",
       "    }\n",
       "\n",
       "    .dataframe tbody tr th {\n",
       "        vertical-align: top;\n",
       "    }\n",
       "\n",
       "    .dataframe thead th {\n",
       "        text-align: right;\n",
       "    }\n",
       "</style>\n",
       "<table border=\"1\" class=\"dataframe\">\n",
       "  <thead>\n",
       "    <tr style=\"text-align: right;\">\n",
       "      <th></th>\n",
       "      <th></th>\n",
       "      <th></th>\n",
       "      <th>km</th>\n",
       "      <th>n</th>\n",
       "      <th>weight</th>\n",
       "      <th>time</th>\n",
       "    </tr>\n",
       "    <tr>\n",
       "      <th>date</th>\n",
       "      <th>start</th>\n",
       "      <th>stop</th>\n",
       "      <th></th>\n",
       "      <th></th>\n",
       "      <th></th>\n",
       "      <th></th>\n",
       "    </tr>\n",
       "  </thead>\n",
       "  <tbody>\n",
       "    <tr>\n",
       "      <th rowspan=\"5\" valign=\"top\">2021-06-22</th>\n",
       "      <th>49399</th>\n",
       "      <th>49399</th>\n",
       "      <td>0.000000</td>\n",
       "      <td>7</td>\n",
       "      <td>1.0</td>\n",
       "      <td>18:00:00</td>\n",
       "    </tr>\n",
       "    <tr>\n",
       "      <th rowspan=\"3\" valign=\"top\">40520</th>\n",
       "      <th>40520</th>\n",
       "      <td>0.000000</td>\n",
       "      <td>6</td>\n",
       "      <td>1.0</td>\n",
       "      <td>18:00:00</td>\n",
       "    </tr>\n",
       "    <tr>\n",
       "      <th>46670</th>\n",
       "      <td>14.569124</td>\n",
       "      <td>8</td>\n",
       "      <td>1.0</td>\n",
       "      <td>18:00:00</td>\n",
       "    </tr>\n",
       "    <tr>\n",
       "      <th>46670</th>\n",
       "      <td>4.038133</td>\n",
       "      <td>6</td>\n",
       "      <td>1.0</td>\n",
       "      <td>18:00:00</td>\n",
       "    </tr>\n",
       "    <tr>\n",
       "      <th>43790</th>\n",
       "      <th>43790</th>\n",
       "      <td>0.000000</td>\n",
       "      <td>33</td>\n",
       "      <td>1.0</td>\n",
       "      <td>18:00:00</td>\n",
       "    </tr>\n",
       "    <tr>\n",
       "      <th>...</th>\n",
       "      <th>...</th>\n",
       "      <th>...</th>\n",
       "      <td>...</td>\n",
       "      <td>...</td>\n",
       "      <td>...</td>\n",
       "      <td>...</td>\n",
       "    </tr>\n",
       "    <tr>\n",
       "      <th rowspan=\"5\" valign=\"top\">2021-06-23</th>\n",
       "      <th rowspan=\"5\" valign=\"top\">10550</th>\n",
       "      <th>10550</th>\n",
       "      <td>3.906906</td>\n",
       "      <td>8</td>\n",
       "      <td>1.0</td>\n",
       "      <td>02:00:00</td>\n",
       "    </tr>\n",
       "    <tr>\n",
       "      <th>10550</th>\n",
       "      <td>21.078068</td>\n",
       "      <td>6</td>\n",
       "      <td>1.0</td>\n",
       "      <td>02:00:00</td>\n",
       "    </tr>\n",
       "    <tr>\n",
       "      <th>10550</th>\n",
       "      <td>12.343332</td>\n",
       "      <td>7</td>\n",
       "      <td>1.0</td>\n",
       "      <td>02:00:00</td>\n",
       "    </tr>\n",
       "    <tr>\n",
       "      <th>10550</th>\n",
       "      <td>8.760227</td>\n",
       "      <td>2</td>\n",
       "      <td>1.0</td>\n",
       "      <td>02:00:00</td>\n",
       "    </tr>\n",
       "    <tr>\n",
       "      <th>10550</th>\n",
       "      <td>12.388832</td>\n",
       "      <td>6</td>\n",
       "      <td>1.0</td>\n",
       "      <td>02:00:00</td>\n",
       "    </tr>\n",
       "  </tbody>\n",
       "</table>\n",
       "<p>37213 rows × 4 columns</p>\n",
       "</div>"
      ],
      "text/plain": [
       "                               km   n  weight      time\n",
       "date       start stop                                  \n",
       "2021-06-22 49399 49399   0.000000   7     1.0  18:00:00\n",
       "           40520 40520   0.000000   6     1.0  18:00:00\n",
       "                 46670  14.569124   8     1.0  18:00:00\n",
       "                 46670   4.038133   6     1.0  18:00:00\n",
       "           43790 43790   0.000000  33     1.0  18:00:00\n",
       "...                           ...  ..     ...       ...\n",
       "2021-06-23 10550 10550   3.906906   8     1.0  02:00:00\n",
       "                 10550  21.078068   6     1.0  02:00:00\n",
       "                 10550  12.343332   7     1.0  02:00:00\n",
       "                 10550   8.760227   2     1.0  02:00:00\n",
       "                 10550  12.388832   6     1.0  02:00:00\n",
       "\n",
       "[37213 rows x 4 columns]"
      ]
     },
     "execution_count": 7,
     "metadata": {},
     "output_type": "execute_result"
    }
   ],
   "source": [
    "frm"
   ]
  },
  {
   "cell_type": "code",
   "execution_count": 6,
   "id": "17273319-6dae-407f-8297-2893e6d4c943",
   "metadata": {},
   "outputs": [
    {
     "data": {
      "text/plain": [
       "<pandas.core.groupby.generic.DataFrameGroupBy object at 0x7fe6eb6f1190>"
      ]
     },
     "execution_count": 6,
     "metadata": {},
     "output_type": "execute_result"
    }
   ],
   "source": [
    "frm.groupby(level = 'date')"
   ]
  },
  {
   "cell_type": "code",
   "execution_count": null,
   "id": "b1f40c95-2677-4acd-94f3-7a589cb1d91b",
   "metadata": {},
   "outputs": [],
   "source": [
    "mydata.timezone"
   ]
  },
  {
   "cell_type": "code",
   "execution_count": null,
   "id": "7d57204e-58f1-4f72-a12e-5a7fc0aeafff",
   "metadata": {},
   "outputs": [],
   "source": [
    "sample"
   ]
  },
  {
   "cell_type": "code",
   "execution_count": null,
   "id": "09536f0d-171c-410f-ad2b-6867fa94c448",
   "metadata": {},
   "outputs": [],
   "source": [
    "datetimes = sample.reset_index()['datetime']"
   ]
  },
  {
   "cell_type": "code",
   "execution_count": null,
   "id": "bff1d9b7-44e2-43a0-a542-1f881dfa6ee1",
   "metadata": {},
   "outputs": [],
   "source": [
    "datetimes.dt.tz_convert(mydata.timezone)"
   ]
  },
  {
   "cell_type": "code",
   "execution_count": null,
   "id": "be45fada-6c51-4e50-9d5e-f64c5cadbc15",
   "metadata": {},
   "outputs": [],
   "source": [
    "sample"
   ]
  },
  {
   "cell_type": "code",
   "execution_count": null,
   "id": "9abd4bf5-e924-4ebc-aaa7-f30d0aed182e",
   "metadata": {},
   "outputs": [],
   "source": [
    "dates = datetimes.apply(lambda x: x.date)"
   ]
  },
  {
   "cell_type": "code",
   "execution_count": null,
   "id": "ecfdbb76-01af-4c93-8eb9-39cd17d358a8",
   "metadata": {},
   "outputs": [],
   "source": [
    "dates"
   ]
  },
  {
   "cell_type": "code",
   "execution_count": null,
   "id": "c22899ea-75d0-4b06-9414-bc11c80b35fc",
   "metadata": {},
   "outputs": [],
   "source": []
  },
  {
   "cell_type": "code",
   "execution_count": null,
   "id": "3787cd16-0ccd-474b-8d81-4ed32b976f8b",
   "metadata": {},
   "outputs": [],
   "source": [
    "frm.groupby('d')"
   ]
  },
  {
   "cell_type": "code",
   "execution_count": null,
   "id": "19f56375-755d-43e3-810f-66bce1991982",
   "metadata": {},
   "outputs": [],
   "source": [
    "def combine_by_date(frm):\n",
    "    indexnames = frm.index.names\n",
    "    frm = frm.reset_index()\n",
    "    frm['date'] = frm['datetime'].apply(lambda x: x.date)\n",
    "    frm['time'] = frm['datetime'].apply(lambda x: x.time)\n",
    "    frm = frm.drop('datetime', axis = 1)\n",
    "    frm = frm.set_index(['date', *indexnames[1:]])\n",
    "    return frm"
   ]
  },
  {
   "cell_type": "code",
   "execution_count": null,
   "id": "29b08bf3-8f26-4a6c-92a7-4178d39e6fb6",
   "metadata": {},
   "outputs": [],
   "source": [
    "combine_by_date(frm)"
   ]
  },
  {
   "cell_type": "code",
   "execution_count": null,
   "id": "aabd56b7-a99e-49ff-93a2-b88944e40d57",
   "metadata": {},
   "outputs": [],
   "source": [
    "frm.reset_index()['datetime'].apply(lambda x: x.date)"
   ]
  },
  {
   "cell_type": "code",
   "execution_count": null,
   "id": "1c083363-cdc5-4e54-a161-bd093546d233",
   "metadata": {},
   "outputs": [],
   "source": [
    "import pandas as pd\n",
    "\n",
    "def make_date(d):\n",
    "    return '-'.join([str(x).zfill(2) for x in d.timetuple()[:3]])\n",
    "def aggregate_by_date(\n",
    "        frm,\n",
    "        datetimeKey = 'datetime',\n",
    "        ):\n",
    "    print(\"Aggregating by date...\")\n",
    "    frm = frm.copy()\n",
    "    frm['date'] = list(frm.reset_index()[datetimeKey].apply(make_date))\n",
    "    frm['date'] = pd.to_datetime(frm['date']).dt.date\n",
    "    indexNames = ['date' if nm == datetimeKey else nm for nm in frm.index.names]\n",
    "    frm = frm.reset_index().set_index(indexNames)\n",
    "    frm = frm.sort_index()\n",
    "    frm = frm.drop('datetime', axis = 1)\n",
    "    print(\"Aggregated.\")\n",
    "    return frm"
   ]
  },
  {
   "cell_type": "code",
   "execution_count": null,
   "id": "06532241-1246-4ed6-a219-ebb4cd733218",
   "metadata": {},
   "outputs": [],
   "source": [
    "out = aggregate_by_date(frm)"
   ]
  },
  {
   "cell_type": "code",
   "execution_count": null,
   "id": "8b086c3f-aeb9-47b2-9000-74ff1aecf089",
   "metadata": {},
   "outputs": [],
   "source": [
    "out"
   ]
  },
  {
   "cell_type": "code",
   "execution_count": null,
   "id": "afa1f32d-ba5c-4a25-a580-56cdf914d3c6",
   "metadata": {},
   "outputs": [],
   "source": [
    "frm.groupby(level = 'datetime').aggregate(\n",
    "#     lambda x: x.loc[x['km'] == 0]['n'].sum() / x['n'].sum()\n",
    "    lambda x: print(type(x))\n",
    "    )"
   ]
  },
  {
   "cell_type": "code",
   "execution_count": null,
   "id": "cf2ff65a-e55d-43ee-8b6c-efc15c33ff4b",
   "metadata": {},
   "outputs": [],
   "source": [
    "frm.groupby(level = ('datetime', 'start', 'stop'))"
   ]
  },
  {
   "cell_type": "code",
   "execution_count": null,
   "id": "ad221234-0385-4449-ae1c-0f90fb1f56de",
   "metadata": {},
   "outputs": [],
   "source": [
    "savefrm = frm"
   ]
  },
  {
   "cell_type": "code",
   "execution_count": null,
   "id": "3adcc853-3839-4f55-9f90-c88229bb7816",
   "metadata": {},
   "outputs": [],
   "source": [
    "import numpy as np\n",
    "import pandas as pd\n",
    "\n",
    "frm = frm.reset_index()\n",
    "lens = [len(item) for item in frm['possible_journeys']]\n",
    "journeys = [\n",
    "    arr.flatten()\n",
    "        for arr in np.split(\n",
    "            np.concatenate(frm['possible_journeys'].values),\n",
    "            3,\n",
    "            axis = 1\n",
    "            )\n",
    "    ]\n",
    "frm = pd.DataFrame({\n",
    "    **{name: np.repeat(frm[name].values, lens) for name in frm.columns}, \n",
    "    **{name: val for name, val in zip(['start', 'stop', 'weight'], journeys)}\n",
    "    })\n",
    "frm['weight'] = frm['weight'].astype(float)\n",
    "dropKeys = {'quadkey', 'end_key', 'index', 'possible_journeys'}\n",
    "frm = frm.drop(dropKeys, axis = 1)\n",
    "frm['start'], frm['stop'] = frm['start'].astype(int), frm['stop'].astype(int)\n",
    "frm = frm.set_index(['datetime', 'start', 'stop'])"
   ]
  },
  {
   "cell_type": "code",
   "execution_count": null,
   "id": "611baa96-8e89-4bd7-9c21-b6e0569dade1",
   "metadata": {},
   "outputs": [],
   "source": []
  },
  {
   "cell_type": "code",
   "execution_count": null,
   "id": "2d2bb85d-bbce-4144-acaa-77f4747593a1",
   "metadata": {},
   "outputs": [],
   "source": [
    "\n",
    "\n",
    "test = pd.DataFrame({\n",
    "    **{name: np.repeat(frm[name].values, lens) for name in frm.columns}, \n",
    "    **{name: val for name, val in zip(['start', 'stop', 'weight'], journeys)}\n",
    "    })"
   ]
  },
  {
   "cell_type": "code",
   "execution_count": null,
   "id": "04f46ef5-b690-4839-8405-35c8ddf4e561",
   "metadata": {},
   "outputs": [],
   "source": [
    "from itertools import product\n",
    "import numpy as np\n",
    "\n",
    "import pandas as pd\n",
    "df = pd.DataFrame\n",
    "import geopandas as gpd\n",
    "gdf = gpd.GeoDataFrame\n",
    "sjoin = gpd.tools.sjoin\n",
    "\n",
    "# from get import get_quadFrm, get_intersection_weights\n",
    "from utils import quadkeys_to_poly\n",
    "\n",
    "def aggregate_mob_tiles_to_regions(frm, aggtype = 'lga'):\n",
    "\n",
    "#     print(\"Aggregating from tiles to regions...\")\n",
    "\n",
    "#     # Trim frame\n",
    "#     frm = frm.copy()\n",
    "#     indexnames = frm.index.names\n",
    "#     frm = frm.reset_index()\n",
    "#     quadkeys = [*frm['quadkey'], *frm['end_key']]\n",
    "#     bounds = quadkeys_to_poly(quadkeys).envelope\n",
    "#     toFrm = toFrm.loc[toFrm.intersects(bounds)]\n",
    "#     if weights is None:\n",
    "#         quadFrm = get_quadFrm(quadkeys)\n",
    "#         weights = get_intersection_weights(quadFrm, toFrm)\n",
    "#     frm = frm.reset_index().set_index('quadkey')\n",
    "#     frm = frm.drop(\n",
    "#         set(frm.index).difference(set(weights.keys()))\n",
    "#         )\n",
    "#     frm = frm.reset_index().set_index('end_key')\n",
    "#     frm = frm.drop(\n",
    "#         set(frm.index).difference(set(weights.keys()))\n",
    "#         )\n",
    "#     frm = frm.reset_index().set_index(indexNames)\n",
    "\n",
    "#     def group_func(x):\n",
    "#         startWeights, endWeights = x[['start_weights', 'end_weights']].values[0]\n",
    "#         possibleJourneys = list(product(startWeights, endWeights))\n",
    "#         outRows = []\n",
    "#         for pair in possibleJourneys:\n",
    "#             (start, startWeight), (end, endWeight) = pair\n",
    "#             outRow = [int(start), int(end), startWeight * endWeight]\n",
    "#             outRows.append(outRow)\n",
    "#         return outRows\n",
    "\n",
    "#     indexNames = frm.index.names\n",
    "#     frm = frm.reset_index()\n",
    "#     frm['start_weights'] = frm.reset_index()['quadkey'].apply(\n",
    "#         lambda x: weights[x]\n",
    "#         )\n",
    "#     frm['end_weights'] = frm.reset_index()['end_key'].apply(\n",
    "#         lambda x: weights[x]\n",
    "#         )\n",
    "#     groupby = frm.groupby(['quadkey', 'end_key'])\n",
    "#     groupby = groupby[['start_weights', 'end_weights']]\n",
    "#     frm = frm.reset_index().set_index(['quadkey', 'end_key'])\n",
    "#     frm['possible_journeys'] = groupby.apply(group_func)\n",
    "#     frm = frm.reset_index().set_index(indexNames)\n",
    "#     frm = frm.drop({'start_weights', 'end_weights', 'index'}, axis = 1)\n",
    "\n",
    "    frm = frm.reset_index()\n",
    "    lens = [len(item) for item in frm['possible_journeys']]\n",
    "    journeys = [\n",
    "        arr.flatten()\n",
    "            for arr in np.split(\n",
    "                np.concatenate(frm['possible_journeys'].values),\n",
    "                3,\n",
    "                axis = 1\n",
    "                )\n",
    "        ]\n",
    "    frm = df({\n",
    "        **{name: np.repeat(frm[name].values, lens) for name in frm.columns}, \n",
    "        **{name: val for name, val in zip(['start', 'stop', 'weight'], journeys)}\n",
    "        })\n",
    "    frm['weight'] = frm['weight'].astype(float)\n",
    "    dropKeys = {'quadkey', 'end_key', 'level_0', 'possible_journeys'}\n",
    "    frm = frm.drop(dropKeys, axis = 1)\n",
    "    frm['start'], frm['stop'] = frm['start'].astype(int), frm['stop'].astype(int)\n",
    "    frm = frm.set_index(['datetime', 'start', 'stop'])\n",
    "\n",
    "    buffer = bounds.buffer(np.sqrt(bounds.area) * 0.1)\n",
    "    indexNames = frm.index.names\n",
    "    clippedFrm = toFrm.loc[toFrm.within(buffer)]\n",
    "    frm = frm.reset_index().set_index('start')\n",
    "    frm = frm.drop(set(frm.index).difference(set(clippedFrm.index)))\n",
    "    frm = frm.reset_index().set_index(indexNames)\n",
    "\n",
    "    frm = frm.sort_index()\n",
    "\n",
    "    print(\"Aggregated.\")\n",
    "\n",
    "    return frm"
   ]
  },
  {
   "cell_type": "code",
   "execution_count": null,
   "id": "54d63957-b9d3-440a-845a-84eabe2e7e4d",
   "metadata": {},
   "outputs": [],
   "source": []
  },
  {
   "cell_type": "code",
   "execution_count": null,
   "id": "3f9c50ae-88d0-4035-b737-631ccf5c623b",
   "metadata": {},
   "outputs": [],
   "source": []
  },
  {
   "cell_type": "code",
   "execution_count": null,
   "id": "47f91298-52d6-451a-8ff5-9e97aa2f0790",
   "metadata": {},
   "outputs": [],
   "source": [
    "lgas = load.load_lgas()"
   ]
  },
  {
   "cell_type": "code",
   "execution_count": null,
   "id": "dcf7d837-e553-4feb-8864-18be2134d9b9",
   "metadata": {},
   "outputs": [],
   "source": [
    "sample"
   ]
  },
  {
   "cell_type": "code",
   "execution_count": null,
   "id": "458dd191-b615-45e1-a63c-6e5719a09842",
   "metadata": {},
   "outputs": [],
   "source": [
    "lgas[quad]"
   ]
  },
  {
   "cell_type": "code",
   "execution_count": null,
   "id": "97fd00f5-95c9-4abe-9c47-9dd9f428530c",
   "metadata": {},
   "outputs": [],
   "source": [
    "quadweights"
   ]
  },
  {
   "cell_type": "code",
   "execution_count": null,
   "id": "0b3a39ba-e8f1-4bbe-8f7c-19d3b16a7cff",
   "metadata": {},
   "outputs": [],
   "source": [
    "l"
   ]
  }
 ],
 "metadata": {
  "kernelspec": {
   "display_name": "Python 3",
   "language": "python",
   "name": "python3"
  },
  "language_info": {
   "codemirror_mode": {
    "name": "ipython",
    "version": 3
   },
   "file_extension": ".py",
   "mimetype": "text/x-python",
   "name": "python",
   "nbconvert_exporter": "python",
   "pygments_lexer": "ipython3",
   "version": "3.9.5"
  }
 },
 "nbformat": 4,
 "nbformat_minor": 5
}
